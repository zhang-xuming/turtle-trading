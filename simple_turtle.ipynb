{
 "cells": [
  {
   "cell_type": "code",
   "execution_count": null,
   "id": "78f549bb",
   "metadata": {},
   "outputs": [],
   "source": [
    "import pandas as pd\n",
    "import numpy as np\n",
    "from plotly.graph_objs import *\n",
    "from pyecharts import options as opts\n",
    "from pyecharts.charts import Kline, Line, EffectScatter"
   ]
  },
  {
   "cell_type": "code",
   "execution_count": null,
   "id": "4119211b",
   "metadata": {},
   "outputs": [],
   "source": [
    "df = pd.read_csv(\"ETH_daily.csv\")  "
   ]
  },
  {
   "cell_type": "code",
   "execution_count": null,
   "id": "0957e472",
   "metadata": {},
   "outputs": [],
   "source": [
    "df[\"Close_1_shift\"] = df[\"Close\"].shift(1)  "
   ]
  },
  {
   "cell_type": "code",
   "execution_count": null,
   "id": "895e3ac6",
   "metadata": {},
   "outputs": [],
   "source": [
    "# 计算True Range\n",
    "\n",
    "df[\"TR\"] = np.abs(df.High - df.Low)           \n",
    "df[\"TR\"] = np.maximum(\n",
    "    df[\"TR\"],\n",
    "    np.maximum(\n",
    "        np.abs(df.Close_1_shift - df.High),\n",
    "        np.abs(df.Close_1_shift - df.Low),\n",
    "    ),\n",
    ")"
   ]
  },
  {
   "cell_type": "code",
   "execution_count": null,
   "id": "a21585e3",
   "metadata": {},
   "outputs": [],
   "source": [
    "# 计算Average True Range-ATR\n",
    "\n",
    "n_array = np.array(df[\"TR\"].values)\n",
    "n_array[20] = np.mean(df[\"TR\"][:20])\n",
    "for i in range(21, df.shape[0]):\n",
    "    n_array[i] = (19.0 * n_array[i - 1] + df[\"TR\"][i]) / 20.0\n",
    "df[\"N\"] = n_array\n"
   ]
  },
  {
   "cell_type": "code",
   "execution_count": null,
   "id": "992497a3",
   "metadata": {},
   "outputs": [],
   "source": [
    "# Compute upper and lower bounds based on Turtle Algorithm\n",
    "\n",
    "df[\"upper_bound\"] = df[\"High\"].shift(1).rolling(window=20).max()\n",
    "df[\"lower_bound\"] = df[\"Low\"].shift(1).rolling(window=10).min()\n"
   ]
  },
  {
   "cell_type": "code",
   "execution_count": null,
   "id": "52f7096c",
   "metadata": {},
   "outputs": [],
   "source": [
    "money = [1000.0 for i in range(20)]  # initial money value in USDT\n",
    "crypto_value = [0 for i in range(20)]\n",
    "crypto = 0  \n",
    "fees = 0.001  # fees as 0.1%\n",
    "positions = []  \n",
    "success_history = []  \n",
    "failure_history = []  \n"
   ]
  },
  {
   "cell_type": "code",
   "execution_count": null,
   "id": "b766730b",
   "metadata": {},
   "outputs": [],
   "source": [
    "# 简单版海龟交易，不考虑仓位管理\n",
    "\n",
    "for i in range(21, df.shape[0]):  \n",
    "\n",
    "    if ( crypto == 0 and df[\"Close_1_shift\"].iloc[i] > df[\"upper_bound\"].iloc[i-1] ): # 1.突破上轨，建仓\n",
    "\n",
    "        price = (df[\"Close\"].iloc[i] + df[\"Open\"].iloc[i]) / 2.0\n",
    "        crypto = np.round(money[-1]*(1.0 - fees)/ price, 4)\n",
    "        crypto_value += [crypto*df[\"Close\"].iloc[i]]\n",
    "        money += [0]\n",
    "        positions += [{ \"date\": df.Date.iloc[i], \"price\": price}]\n",
    "        stop_loss = price - 2.0 * df[\"N\"].iloc[i]  # set stop loss\n",
    "\n",
    "\n",
    "    elif crypto == 0:                                       # 2.空仓不动\n",
    "        money += [money[-1]]\n",
    "        crypto_value += [0]\n",
    "        \n",
    "    elif crypto > 0 and (\n",
    "        df[\"Close_1_shift\"].iloc[i]< df[\"lower_bound\"].iloc[i-1]  # 3、突破下轨或达到止损条件stop_loss或最后一次交易，清仓\n",
    "        or df[\"Close_1_shift\"].iloc[i] < stop_loss  \n",
    "        or i == df.shape[0] - 1 ): \n",
    "\n",
    "        price = (df[\"Close\"].iloc[i] + df[\"Open\"].iloc[i]) / 2.0\n",
    "        money += [crypto * price *(1-fees)]\n",
    "        crypto = 0\n",
    "        crypto_value +=[0]\n",
    "        stop_loss = 0.0\n",
    "\n",
    "        if positions[-1][\"price\"] < price:\n",
    "            success_history += [\n",
    "                {\n",
    "                    \"date\": [positions[-1][\"date\"], df.Date.iloc[i]],\n",
    "                    \"price\": [positions[-1][\"price\"], price],\n",
    "                }\n",
    "            ]\n",
    "        else:\n",
    "            failure_history += [\n",
    "                {\n",
    "                    \"date\": [positions[-1][\"date\"], df.Date.iloc[i]],\n",
    "                    \"price\": [positions[-1][\"price\"], price],\n",
    "                }\n",
    "            ]\n",
    "        positions = []\n",
    "        \n",
    "    elif crypto > 0:                              # 4.持仓不动\n",
    "        money += [0]\n",
    "        crypto_value += [crypto * df[\"Close\"].iloc[i]]"
   ]
  },
  {
   "cell_type": "code",
   "execution_count": null,
   "id": "754c4393",
   "metadata": {},
   "outputs": [],
   "source": [
    "success_rate = 0\n",
    "if len(success_history) + len(failure_history) > 0:\n",
    "    success_rate = len(success_history) / (len(failure_history) + len(success_history))\n"
   ]
  },
  {
   "cell_type": "code",
   "execution_count": null,
   "id": "3e4abb80",
   "metadata": {},
   "outputs": [],
   "source": [
    "print(\"-\" * 50)\n",
    "print(\"Benchmark\",(df.Close.iloc[df.shape[0]-1]/df.Close.iloc[0]-1)*1000+1000)\n",
    "print(\"Capital at the end\", np.round(money[-1], 2))\n",
    "print(\"Accumulated return at the end\", np.round(money[-1]/money[0]*100, 4),\"%\")\n",
    "print(\"Win ratio\", success_rate )\n",
    "print(\"-\" * 50)\n",
    "print(\"Summary of % change in positions\")\n",
    "percent_change = []\n",
    "positions = []\n",
    "for h in [failure_history, success_history]:\n",
    "    for position in h:\n",
    "        percent_change.append(np.round((position[\"price\"][1] - position[\"price\"][0])/ position[\"price\"][0]* 100.0, 2,))\n",
    "        print(\"Percent change in position\", percent_change[-1])\n",
    "        positions += [position]\n",
    "        \n",
    "print(\"-\" * 50)\n",
    "print(\"Total trade times\", len(percent_change))\n",
    "print(\"Average return per trade\", np.round(sum(percent_change)/len(percent_change),2),\"%\")\n",
    "print(\"Max win\", max(percent_change),\"%\")\n",
    "print(\"Max loss\", min(percent_change),\"%\")"
   ]
  },
  {
   "cell_type": "code",
   "execution_count": null,
   "id": "7ba29a3f",
   "metadata": {},
   "outputs": [],
   "source": [
    "attr=[str(t) for t in df.Date]\n",
    "bd = [str(i[\"date\"][0]) for i in positions]\n",
    "sd = [str(i[\"date\"][1]) for i in positions]\n",
    "bp = [np.round((i[\"price\"][0]),2) for i in positions]\n",
    "sp = [np.round((i[\"price\"][1]),2) for i in positions]\n",
    "\n",
    "v1=np.array(df.loc[:,['Open','Close','Low','High']]).tolist()\n",
    "v2=np.array(df.upper_bound).tolist()\n",
    "v3=np.array(df.lower_bound).tolist()\n",
    "kline1 = (\n",
    "    Kline()\n",
    "    .add_xaxis(attr)\n",
    "    .add_yaxis(\"ETH\",v1)\n",
    "    .set_global_opts(\n",
    "        xaxis_opts=opts.AxisOpts(is_scale=True),\n",
    "        yaxis_opts=opts.AxisOpts(\n",
    "            is_scale=True,\n",
    "            splitarea_opts=opts.SplitAreaOpts(\n",
    "                is_show=True, areastyle_opts=opts.AreaStyleOpts(opacity=1)\n",
    "            ),\n",
    "        ),\n",
    "        datazoom_opts=[opts.DataZoomOpts(pos_bottom=\"-2%\")],\n",
    "        title_opts=opts.TitleOpts(title=\"simple_turtle\"),\n",
    "    ) \n",
    ")\n",
    "\n",
    "line1 = (\n",
    "    Line()\n",
    "    .add_xaxis(attr)\n",
    "    .add_yaxis(\"upper_bound\",v2 , is_smooth = True,)\n",
    "    .add_yaxis(\"lower_bound\",v3 , is_smooth = True,)\n",
    ")\n",
    "cb = (\n",
    "    EffectScatter()\n",
    "    .add_xaxis(bd)\n",
    "    .add_yaxis(\"Buy\", bp)\n",
    ")\n",
    "\n",
    "cs = (\n",
    "    EffectScatter()\n",
    "    .add_xaxis(sd)\n",
    "    .add_yaxis(\"Sell\", sp)\n",
    ")\n",
    "\n",
    "kline1.overlap(line1)\n",
    "kline1.overlap(cb)\n",
    "kline1.overlap(cs)\n",
    "kline1.render(\"p1_simple_turtle.html\")\n"
   ]
  },
  {
   "cell_type": "code",
   "execution_count": null,
   "id": "cd954c2f",
   "metadata": {},
   "outputs": [],
   "source": [
    "rtn = [np.round((crypto_value[i]+money[i])/money[0],4) for i in range(df.shape[0]-1)]\n",
    "ben = [np.round(j/df.Close.iloc[0],4) for j in df.Close]\n",
    "\n",
    "line2 = (\n",
    "    Line()\n",
    "    .add_xaxis(attr)\n",
    "    .add_yaxis(\"rtn\",rtn , is_smooth = True,)\n",
    "    .add_yaxis(\"ben\",ben , is_smooth = True,) \n",
    "    .set_global_opts(\n",
    "        xaxis_opts=opts.AxisOpts(is_scale=True),\n",
    "        yaxis_opts=opts.AxisOpts(\n",
    "            is_scale=True,\n",
    "            splitarea_opts=opts.SplitAreaOpts(\n",
    "                is_show=True, areastyle_opts=opts.AreaStyleOpts(opacity=1)\n",
    "            ),\n",
    "        ),\n",
    "        datazoom_opts=[opts.DataZoomOpts(pos_bottom=\"-2%\")],\n",
    "        title_opts=opts.TitleOpts(title=\"simple_turtle\"),\n",
    "    ) \n",
    ")\n",
    "line2.render(\"p2_simple_turtle.html\")"
   ]
  }
 ],
 "metadata": {
  "kernelspec": {
   "display_name": "Python 3 (ipykernel)",
   "language": "python",
   "name": "python3"
  },
  "language_info": {
   "codemirror_mode": {
    "name": "ipython",
    "version": 3
   },
   "file_extension": ".py",
   "mimetype": "text/x-python",
   "name": "python",
   "nbconvert_exporter": "python",
   "pygments_lexer": "ipython3",
   "version": "3.9.7"
  }
 },
 "nbformat": 4,
 "nbformat_minor": 5
}
