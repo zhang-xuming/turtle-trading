{
 "cells": [
  {
   "cell_type": "code",
   "execution_count": null,
   "id": "78f549bb",
   "metadata": {},
   "outputs": [],
   "source": [
    "import pandas as pd\n",
    "import numpy as np\n",
    "from plotly.graph_objs import *\n",
    "from pyecharts import options as opts\n",
    "from pyecharts.charts import Kline, Line, EffectScatter"
   ]
  },
  {
   "cell_type": "code",
   "execution_count": null,
   "id": "4119211b",
   "metadata": {},
   "outputs": [],
   "source": [
    "df_1d = pd.read_csv(\"ETH_daily.csv\")  "
   ]
  },
  {
   "cell_type": "code",
   "execution_count": null,
   "id": "0957e472",
   "metadata": {},
   "outputs": [],
   "source": [
    "df_1d[\"Close_1_shift\"] = df_1d[\"Close\"].shift(1)  "
   ]
  },
  {
   "cell_type": "code",
   "execution_count": null,
   "id": "895e3ac6",
   "metadata": {},
   "outputs": [],
   "source": [
    "df_1d[\"TR\"] = np.abs(df_1d.High - df_1d.Low)\n",
    "df_1d[\"TR\"] = np.maximum(\n",
    "    df_1d[\"TR\"],\n",
    "    np.maximum(\n",
    "        np.abs(df_1d.Close_1_shift - df_1d.High),\n",
    "        np.abs(df_1d.Close_1_shift - df_1d.Low),\n",
    "    ),\n",
    ")"
   ]
  },
  {
   "cell_type": "code",
   "execution_count": null,
   "id": "a21585e3",
   "metadata": {},
   "outputs": [],
   "source": [
    "n_array = np.array(df_1d[\"TR\"].values)\n",
    "n_array[20] = np.mean(df_1d[\"TR\"][:20])\n",
    "for i in range(21, df_1d.shape[0]):\n",
    "    n_array[i] = (19.0 * n_array[i - 1] + df_1d[\"TR\"][i]) / 20.0\n",
    "df_1d[\"N\"] = n_array\n"
   ]
  },
  {
   "cell_type": "code",
   "execution_count": null,
   "id": "992497a3",
   "metadata": {},
   "outputs": [],
   "source": [
    "# Compute upper and lower bounds based on Turtle Algorithm\n",
    "df_1d[\"upper_bound\"] = df_1d[\"High\"].shift(1).rolling(window=20).max()\n",
    "df_1d[\"lower_bound\"] = df_1d[\"Low\"].shift(1).rolling(window=10).min()\n",
    "df = df_1d"
   ]
  },
  {
   "cell_type": "code",
   "execution_count": null,
   "id": "52f7096c",
   "metadata": {},
   "outputs": [],
   "source": [
    "crypto_value = [0 for i in range(20)]\n",
    "money = [1000 for i in range(20)]\n",
    "init_money = 1000\n",
    "crypto = 0\n",
    "fees = 0.001  # fees as 0.1%\n",
    "positions = []  \n",
    "success_history = []  \n",
    "failure_history = []  \n"
   ]
  },
  {
   "cell_type": "code",
   "execution_count": null,
   "id": "b766730b",
   "metadata": {},
   "outputs": [],
   "source": [
    "#original turtle, 考虑仓位管理，每次加仓1 unit\n",
    "\n",
    "for i in range(21, df.shape[0]): \n",
    "\n",
    "    if ( crypto == 0 and df[\"Close_1_shift\"].iloc[i] > df[\"upper_bound\"].iloc[i-1] ): #建仓\n",
    "        # We will use average price from the current ticker\n",
    "        price = (df[\"Close\"].iloc[i] + df[\"Open\"].iloc[i]) / 2.0\n",
    "        unit = 1 *0.01*init_money/df[\"N\"].iloc[i]\n",
    "\n",
    "        if money[-1] > unit*price*(1+fees):    #剩下的钱够买 1 unit\n",
    "            crypto += unit\n",
    "            crypto_value+= [crypto *df[\"Close\"].iloc[i]]\n",
    "            money+=[money[-1]-unit * price*(1+fees)]\n",
    "\n",
    "        elif 0<money[-1] and money[-1]<unit*price:     #剩下的钱不够买 1 unit\n",
    "            crypto += money[-1]*(1.0 - fees)/price\n",
    "            crypto_value+= [crypto *df[\"Close\"].iloc[i]]\n",
    "            money+=[0]\n",
    "            \n",
    "        increase_position = price + 0.5*df[\"N\"].iloc[i]\n",
    "        stop_loss = price - 2.0 * df[\"N\"].iloc[i]\n",
    "        positions += [{ \"date\": df.Date.iloc[i], \"price\": price, \"money\": init_money}]\n",
    "\n",
    "    elif crypto == 0:    #空仓不动\n",
    "        crypto_value += [crypto_value[-1]]\n",
    "        money += [money[-1]]\n",
    "        \n",
    "    elif (crypto > 0 and df[\"Close_1_shift\"].iloc[i] > increase_position and money[-1] >0) : #加仓\n",
    "        price = (df[\"Close\"].iloc[i] + df[\"Open\"].iloc[i]) / 2.0\n",
    "        unit = 1 *0.01*init_money/df[\"N\"].iloc[i]\n",
    "        \n",
    "        if money[-1] > unit*price*(1+fees):    #剩下的钱够买 1 unit\n",
    "            crypto += unit\n",
    "            crypto_value+= [crypto *df[\"Close\"].iloc[i]]\n",
    "            money+=[money[-1]-unit * price*(1+fees)]\n",
    "\n",
    "        elif 0<money[-1] and money[-1]<unit*price:     #剩下的钱不够买 1 unit\n",
    "            crypto += money[-1]*(1.0 - fees)/price\n",
    "            crypto_value+= [crypto *df[\"Close\"].iloc[i]]\n",
    "            money+=[0]\n",
    "            \n",
    "        increase_position = price + 0.5*df[\"N\"].iloc[i]\n",
    "        stop_loss = price - 2.0 * df[\"N\"].iloc[i]\n",
    "\n",
    "        \n",
    "    elif  crypto > 0 and (\n",
    "        df[\"Close_1_shift\"].iloc[i]< df[\"lower_bound\"].iloc[i-1] \n",
    "        or df[\"Close_1_shift\"].iloc[i] < stop_loss  \n",
    "        or i == df.shape[0] - 1 ):                      #清仓\n",
    "        \n",
    "        price = (df[\"Close\"].iloc[i] + df[\"Open\"].iloc[i]) / 2.0\n",
    "        money += [money[-1] + crypto * price * (1 - fees)]\n",
    "        init_money = money[-1]\n",
    "        stop_loss, crypto = 0, 0\n",
    "        crypto_value += [0]\n",
    "        if positions[-1][\"price\"] < price:\n",
    "            success_history += [\n",
    "                {\n",
    "                    \"date\": [positions[-1][\"date\"], df.Date.iloc[i]],\n",
    "                    \"price\":[positions[-1][\"price\"],price],\n",
    "                    \"money\": [positions[-1][\"money\"], money[-1]],\n",
    "                }\n",
    "            ]\n",
    "        else:\n",
    "            failure_history += [\n",
    "                {\n",
    "                    \"date\": [positions[-1][\"date\"], df.Date.iloc[i]],\n",
    "                    \"price\":[positions[-1][\"price\"],price],\n",
    "                    \"money\": [positions[-1][\"money\"], money[-1]],\n",
    "                }\n",
    "            ]\n",
    "        positions = []\n",
    "        \n",
    "    elif crypto > 0:           #持仓不动\n",
    "        crypto_value += [crypto * df[\"Close\"].iloc[i]]\n",
    "        money += [money[-1]]\n"
   ]
  },
  {
   "cell_type": "code",
   "execution_count": null,
   "id": "754c4393",
   "metadata": {},
   "outputs": [],
   "source": [
    "success_rate = 0\n",
    "if len(success_history) + len(failure_history) > 0:\n",
    "    success_rate = len(success_history) / (len(failure_history) + len(success_history))\n"
   ]
  },
  {
   "cell_type": "code",
   "execution_count": null,
   "id": "dd6eb92d",
   "metadata": {},
   "outputs": [
    {
     "name": "stdout",
     "output_type": "stream",
     "text": [
      "--------------------------------------------------\n",
      "Benchmark 23094.746501491165\n",
      "Capital at the end 5161.87\n",
      "Accumulated return at the end 516.1873 %\n",
      "Win ratio 1.0\n",
      "--------------------------------------------------\n",
      "Summary of % change in positions\n",
      "Percent change in position 10.62\n",
      "Percent change in position -1.13\n",
      "Percent change in position -2.48\n",
      "Percent change in position 18.2\n",
      "Percent change in position 286.39\n",
      "Percent change in position 0.8\n",
      "Percent change in position -0.62\n",
      "Percent change in position 11.78\n",
      "Percent change in position -1.89\n",
      "Percent change in position -3.55\n",
      "--------------------------------------------------\n",
      "Total trade times 10\n",
      "Average return per trade 31.81 %\n",
      "Max win 286.39 %\n",
      "Max loss -3.55 %\n",
      "--------------------------------------------------\n",
      "Benchmark 23094.746501491165\n",
      "Capital at the end 5161.87\n",
      "Accumulated return at the end 516.1873 %\n",
      "Win ratio 1.0\n",
      "--------------------------------------------------\n",
      "Summary of % change in positions\n",
      "Percent change in position 10.62\n",
      "Percent change in position -1.13\n",
      "Percent change in position -2.48\n",
      "Percent change in position 18.2\n",
      "Percent change in position 286.39\n",
      "Percent change in position 0.8\n",
      "Percent change in position -0.62\n",
      "Percent change in position 11.78\n",
      "Percent change in position -1.89\n",
      "Percent change in position -3.55\n",
      "--------------------------------------------------\n",
      "Total trade times 10\n",
      "Average return per trade 31.81 %\n",
      "Max win 286.39 %\n",
      "Max loss -3.55 %\n"
     ]
    }
   ],
   "source": [
    "print(\"-\" * 50)\n",
    "print(\"Benchmark\",(df.Close.iloc[df.shape[0]-1]/df.Close.iloc[0]-1)*1000+1000)\n",
    "print(\"Capital at the end\", np.round(money[-1], 2))\n",
    "print(\"Accumulated return at the end\", np.round(money[-1]/money[0]*100, 4),\"%\")\n",
    "print(\"Win ratio\", success_rate )\n",
    "print(\"-\" * 50)\n",
    "print(\"Summary of % change in positions\")\n",
    "percent_change = []\n",
    "positions = []\n",
    "for h in [failure_history, success_history]:\n",
    "    for position in h:\n",
    "        percent_change.append(np.round((position[\"money\"][1] - position[\"money\"][0])/ position[\"money\"][0]* 100.0, 2,))\n",
    "        print(\"Percent change in position\", percent_change[-1])\n",
    "        positions += [position]\n",
    "        \n",
    "print(\"-\" * 50)\n",
    "print(\"Total trade times\", len(percent_change))\n",
    "print(\"Average return per trade\", np.round(sum(percent_change)/len(percent_change),2),\"%\")\n",
    "print(\"Max win\", max(percent_change),\"%\")\n",
    "print(\"Max loss\", min(percent_change),\"%\")"
   ]
  },
  {
   "cell_type": "code",
   "execution_count": null,
   "id": "7ba29a3f",
   "metadata": {},
   "outputs": [
    {
     "data": {
      "text/plain": [
       "'F:\\\\jupyter\\\\p1_original_turtle.html'"
      ]
     },
     "execution_count": 23,
     "metadata": {},
     "output_type": "execute_result"
    },
    {
     "data": {
      "text/plain": [
       "'F:\\\\jupyter\\\\p1_original_turtle.html'"
      ]
     },
     "execution_count": 23,
     "metadata": {},
     "output_type": "execute_result"
    }
   ],
   "source": [
    "attr=[str(t) for t in df.Date]\n",
    "bd = [str(i[\"date\"][0]) for i in positions]\n",
    "sd = [str(i[\"date\"][1]) for i in positions]\n",
    "bp = [np.round((i[\"price\"][0]),2) for i in positions]\n",
    "sp = [np.round((i[\"price\"][1]),2) for i in positions]\n",
    "\n",
    "v1=np.array(df.loc[:,['Open','Close','Low','High']]).tolist()\n",
    "v2=np.array(df.upper_bound).tolist()\n",
    "v3=np.array(df.lower_bound).tolist()\n",
    "kline1 = (\n",
    "    Kline()\n",
    "    .add_xaxis(attr)\n",
    "    .add_yaxis(\"ETH\",v1)\n",
    "    .set_global_opts(\n",
    "        xaxis_opts=opts.AxisOpts(is_scale=True),\n",
    "        yaxis_opts=opts.AxisOpts(\n",
    "            is_scale=True,\n",
    "            splitarea_opts=opts.SplitAreaOpts(\n",
    "                is_show=True, areastyle_opts=opts.AreaStyleOpts(opacity=1)\n",
    "            ),\n",
    "        ),\n",
    "        datazoom_opts=[opts.DataZoomOpts(pos_bottom=\"-2%\")],\n",
    "        title_opts=opts.TitleOpts(title=\"original_turtle\"),\n",
    "    ) \n",
    ")\n",
    "\n",
    "line1 = (\n",
    "    Line()\n",
    "    .add_xaxis(attr)\n",
    "    .add_yaxis(\"upper_bound\",v2 , is_smooth = True,)\n",
    "    .add_yaxis(\"lower_bound\",v3 , is_smooth = True,)\n",
    ")\n",
    "\n",
    "cb = (\n",
    "    EffectScatter()\n",
    "    .add_xaxis(bd)\n",
    "    .add_yaxis(\"Buy\", bp)\n",
    ")\n",
    "\n",
    "cs = (\n",
    "    EffectScatter()\n",
    "    .add_xaxis(sd)\n",
    "    .add_yaxis(\"Sell\", sp)\n",
    ")\n",
    "\n",
    "kline1.overlap(line1)\n",
    "kline1.overlap(cb)\n",
    "kline1.overlap(cs)\n",
    "kline1.render(\"p1_original_turtle.html\")\n"
   ]
  },
  {
   "cell_type": "code",
   "execution_count": null,
   "id": "cd954c2f",
   "metadata": {},
   "outputs": [
    {
     "data": {
      "text/plain": [
       "'F:\\\\jupyter\\\\p2_original_turtle.html'"
      ]
     },
     "execution_count": 24,
     "metadata": {},
     "output_type": "execute_result"
    },
    {
     "data": {
      "text/plain": [
       "'F:\\\\jupyter\\\\p2_original_turtle.html'"
      ]
     },
     "execution_count": 24,
     "metadata": {},
     "output_type": "execute_result"
    }
   ],
   "source": [
    "rtn = [np.round((crypto_value[i]+money[i])/money[0],4) for i in range(df.shape[0]-1)]\n",
    "ben = [np.round(j/df.Close.iloc[0],4) for j in df.Close]\n",
    "\n",
    "line2 = (\n",
    "    Line()\n",
    "    .add_xaxis(attr)\n",
    "    .add_yaxis(\"rtn\",rtn , is_smooth = True,)\n",
    "    .add_yaxis(\"ben\",ben , is_smooth = True,) \n",
    "    .set_global_opts(\n",
    "        xaxis_opts=opts.AxisOpts(is_scale=True),\n",
    "        yaxis_opts=opts.AxisOpts(\n",
    "            is_scale=True,\n",
    "            splitarea_opts=opts.SplitAreaOpts(\n",
    "                is_show=True, areastyle_opts=opts.AreaStyleOpts(opacity=1)\n",
    "            ),\n",
    "        ),\n",
    "        datazoom_opts=[opts.DataZoomOpts(pos_bottom=\"-2%\")],\n",
    "        title_opts=opts.TitleOpts(title=\"original_turtle\"),\n",
    "    ) \n",
    ")\n",
    "\n",
    "line2.render(\"p2_original_turtle.html\")\n"
   ]
  }
 ],
 "metadata": {
  "kernelspec": {
   "display_name": "Python 3 (ipykernel)",
   "language": "python",
   "name": "python3"
  },
  "language_info": {
   "codemirror_mode": {
    "name": "ipython",
    "version": 3
   },
   "file_extension": ".py",
   "mimetype": "text/x-python",
   "name": "python",
   "nbconvert_exporter": "python",
   "pygments_lexer": "ipython3",
   "version": "3.9.7"
  }
 },
 "nbformat": 4,
 "nbformat_minor": 5
}
